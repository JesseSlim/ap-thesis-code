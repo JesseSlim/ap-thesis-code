{
 "cells": [
  {
   "cell_type": "code",
   "execution_count": 41,
   "metadata": {
    "collapsed": false
   },
   "outputs": [],
   "source": [
    "import numpy as np"
   ]
  },
  {
   "cell_type": "code",
   "execution_count": 108,
   "metadata": {
    "collapsed": true
   },
   "outputs": [],
   "source": [
    "# pauli matrices\n",
    "\n",
    "sx = np.array([[0, 1],[ 1, 0]])\n",
    "sy = np.array([[0, -1j],[1j, 0]])\n",
    "sz = np.array([[1, 0],[0, -1]])\n",
    "si = np.eye(2)\n",
    "\n",
    "z0 = np.array([1, 0])\n",
    "z1 = np.array([0, 1])\n",
    "\n",
    "x0 = np.array([1, -1]) / np.sqrt(2)\n",
    "x1 = np.array([1, 1]) / np.sqrt(2)\n",
    "\n",
    "y0 = np.array([1, 1j]) / np.sqrt(2)\n",
    "y1 = np.array([1, -1j]) / np.sqrt(2)\n",
    "\n",
    "bstates = {\n",
    "    'z0': z0,\n",
    "    'z1': z1,\n",
    "    'x0': x0,\n",
    "    'x1': x1,\n",
    "    'y0': y0,\n",
    "    'y1': y1\n",
    "}"
   ]
  },
  {
   "cell_type": "code",
   "execution_count": 62,
   "metadata": {
    "collapsed": true
   },
   "outputs": [],
   "source": [
    "def R(axis, angle):\n",
    "    axis = np.array(axis).reshape(3)\n",
    "    return np.cos(angle/2) * si - 1j * np.sin(angle/2) * np.dot(np.array([sx, sy, sz]).T, axis)"
   ]
  },
  {
   "cell_type": "code",
   "execution_count": 151,
   "metadata": {
    "collapsed": true
   },
   "outputs": [],
   "source": [
    "def check_rotation(axis, angle, input_state, expected_state):\n",
    "    print(\"%s rotated by %.2f pi over axis %s\" % (input_state, angle/np.pi, axis))\n",
    "    \n",
    "    output_state = np.dot(R(axis, angle), bstates[input_state])\n",
    "    print(\"output state       : %s\" % output_state)\n",
    "    raw_overlap = output_state / bstates[expected_state]\n",
    "    print(\"comparison to expected state: %s\" % expected_state)\n",
    "    print(\"raw overlap     : %s\" % (raw_overlap))\n",
    "    print(\"avg raw overlap : %s\" % str(np.mean(raw_overlap)))\n",
    "    print(\"absval avg raw o: %f\" % (np.abs(np.mean(raw_overlap))))\n",
    "    print(\"angle avg raw o : %.2f pi\" % (np.angle(np.mean(raw_overlap)) / np.pi))"
   ]
  },
  {
   "cell_type": "code",
   "execution_count": 98,
   "metadata": {
    "collapsed": false
   },
   "outputs": [
    {
     "name": "stdout",
     "output_type": "stream",
     "text": [
      "z0 rotated by pi/2 over +y-ax\n",
      "[ 0.70710678+0.j -0.70710678+0.j]\n",
      "[ 1.+0.j  1.-0.j]\n",
      "z1 rotated by pi/2 over +y-ax\n",
      "[ 0.70710678+0.j  0.70710678+0.j]\n",
      "[ 1.+0.j  1.+0.j]\n"
     ]
    }
   ],
   "source": [
    "print(\"z0 rotated by pi/2 over +y-ax\")\n",
    "z0_rot_y = np.dot(R([0, 1, 0], np.pi/2), z0)\n",
    "print(z0_rot_y)\n",
    "print(z0_rot_y / x0)\n",
    "\n",
    "print(\"z1 rotated by pi/2 over +y-ax\")\n",
    "z1_rot_y = np.dot(R([0, 1, 0], np.pi/2), z1)\n",
    "print(z1_rot_y)\n",
    "print(z1_rot_y / x1)"
   ]
  },
  {
   "cell_type": "code",
   "execution_count": 101,
   "metadata": {
    "collapsed": false
   },
   "outputs": [
    {
     "name": "stdout",
     "output_type": "stream",
     "text": [
      "z0 rotated by pi/2 over +x-ax\n",
      "[ 0.70710678+0.j          0.00000000-0.70710678j]\n",
      "[ 1.+0.j  1.+0.j]\n",
      "z1 rotated by pi/2 over +x-ax\n",
      "[ 0.00000000-0.70710678j  0.70710678+0.j        ]\n",
      "[ 0.-1.j  0.-1.j]\n"
     ]
    }
   ],
   "source": [
    "print(\"z0 rotated by pi/2 over +x-ax\")\n",
    "z0_rot_x = np.dot(R([1, 0, 0], np.pi/2), z0)\n",
    "print(z0_rot_x)\n",
    "print(z0_rot_x / y1)\n",
    "\n",
    "print(\"z1 rotated by pi/2 over +x-ax\")\n",
    "z1_rot_x = np.dot(R([1, 0, 0], np.pi/2), z1)\n",
    "print(z1_rot_x)\n",
    "print(z1_rot_x / y0)"
   ]
  },
  {
   "cell_type": "code",
   "execution_count": 102,
   "metadata": {
    "collapsed": false
   },
   "outputs": [
    {
     "name": "stdout",
     "output_type": "stream",
     "text": [
      "z0 rotated by pi/2 over -x-ax\n",
      "[ 0.70710678+0.j          0.00000000+0.70710678j]\n",
      "[ 1.+0.j  1.+0.j]\n",
      "z1 rotated by pi/2 over -x-ax\n",
      "[ 0.00000000+0.70710678j  0.70710678+0.j        ]\n",
      "[ 0.+1.j -0.+1.j]\n"
     ]
    }
   ],
   "source": [
    "print(\"z0 rotated by pi/2 over -x-ax\")\n",
    "z0_rot_mx = np.dot(R([-1, 0, 0], np.pi/2), z0)\n",
    "print(z0_rot_mx)\n",
    "print(z0_rot_mx / y0)\n",
    "\n",
    "print(\"z1 rotated by pi/2 over -x-ax\")\n",
    "z1_rot_mx = np.dot(R([-1, 0, 0], np.pi/2), z1)\n",
    "print(z1_rot_mx)\n",
    "print(z1_rot_mx / y1)"
   ]
  },
  {
   "cell_type": "markdown",
   "metadata": {},
   "source": [
    "## Rotations over +y"
   ]
  },
  {
   "cell_type": "code",
   "execution_count": 125,
   "metadata": {
    "collapsed": false
   },
   "outputs": [
    {
     "name": "stdout",
     "output_type": "stream",
     "text": [
      "z0 rotated by 0.50 pi over axis [0, 1, 0]\n",
      "output state       : [ 0.70710678+0.j -0.70710678+0.j]\n",
      "comparison to expected state: x0\n",
      "raw overlap     : [ 1.+0.j  1.-0.j]\n",
      "avg raw overlap : (1+0j)\n",
      "absval avg raw o: 1.000000\n"
     ]
    }
   ],
   "source": [
    "check_rotation([0, 1, 0], np.pi/2, 'z0', 'x0')"
   ]
  },
  {
   "cell_type": "code",
   "execution_count": 126,
   "metadata": {
    "collapsed": false
   },
   "outputs": [
    {
     "name": "stdout",
     "output_type": "stream",
     "text": [
      "z1 rotated by 0.50 pi over axis [0, 1, 0]\n",
      "output state       : [ 0.70710678+0.j  0.70710678+0.j]\n",
      "comparison to expected state: x1\n",
      "raw overlap     : [ 1.+0.j  1.+0.j]\n",
      "avg raw overlap : (1+0j)\n",
      "absval avg raw o: 1.000000\n"
     ]
    }
   ],
   "source": [
    "check_rotation([0, 1, 0], np.pi/2, 'z1', 'x1')"
   ]
  },
  {
   "cell_type": "markdown",
   "metadata": {},
   "source": [
    "## Rotations over +x"
   ]
  },
  {
   "cell_type": "code",
   "execution_count": 115,
   "metadata": {
    "collapsed": false
   },
   "outputs": [
    {
     "name": "stdout",
     "output_type": "stream",
     "text": [
      "z0 rotated by 0.50 pi over axis [1, 0, 0]\n",
      "output state       : [ 0.70710678+0.j          0.00000000-0.70710678j]\n",
      "comparison to expected state: y1\n",
      "raw overlap     : [ 1.+0.j  1.+0.j]\n",
      "avg raw overlap : (1+0j)\n",
      "absval avg raw o: 1.000000\n"
     ]
    }
   ],
   "source": [
    "check_rotation([1, 0, 0], np.pi/2, 'z0', 'y1')"
   ]
  },
  {
   "cell_type": "code",
   "execution_count": 116,
   "metadata": {
    "collapsed": false
   },
   "outputs": [
    {
     "name": "stdout",
     "output_type": "stream",
     "text": [
      "z1 rotated by 0.50 pi over axis [1, 0, 0]\n",
      "output state       : [ 0.00000000-0.70710678j  0.70710678+0.j        ]\n",
      "comparison to expected state: y0\n",
      "raw overlap     : [ 0.-1.j  0.-1.j]\n",
      "avg raw overlap : -1j\n",
      "absval avg raw o: 1.000000\n"
     ]
    }
   ],
   "source": [
    "check_rotation([1, 0, 0], np.pi/2, 'z1', 'y0')"
   ]
  },
  {
   "cell_type": "markdown",
   "metadata": {},
   "source": [
    "## Rotations over -x"
   ]
  },
  {
   "cell_type": "code",
   "execution_count": 121,
   "metadata": {
    "collapsed": false
   },
   "outputs": [
    {
     "name": "stdout",
     "output_type": "stream",
     "text": [
      "z0 rotated by 0.50 pi over axis [-1, 0, 0]\n",
      "output state       : [ 0.70710678+0.j          0.00000000+0.70710678j]\n",
      "comparison to expected state: y0\n",
      "raw overlap     : [ 1.+0.j  1.+0.j]\n",
      "avg raw overlap : (1+0j)\n",
      "absval avg raw o: 1.000000\n"
     ]
    }
   ],
   "source": [
    "check_rotation([-1, 0, 0], np.pi/2, 'z0', 'y0')"
   ]
  },
  {
   "cell_type": "code",
   "execution_count": 122,
   "metadata": {
    "collapsed": false
   },
   "outputs": [
    {
     "name": "stdout",
     "output_type": "stream",
     "text": [
      "z1 rotated by 0.50 pi over axis [-1, 0, 0]\n",
      "output state       : [ 0.00000000+0.70710678j  0.70710678+0.j        ]\n",
      "comparison to expected state: y1\n",
      "raw overlap     : [ 0.+1.j -0.+1.j]\n",
      "avg raw overlap : 1j\n",
      "absval avg raw o: 1.000000\n"
     ]
    }
   ],
   "source": [
    "check_rotation([-1, 0, 0], np.pi/2, 'z1', 'y1')"
   ]
  },
  {
   "cell_type": "code",
   "execution_count": 138,
   "metadata": {
    "collapsed": false
   },
   "outputs": [
    {
     "data": {
      "text/plain": [
       "array([ 0.+0.j,  0.+1.j])"
      ]
     },
     "execution_count": 138,
     "metadata": {},
     "output_type": "execute_result"
    }
   ],
   "source": [
    "((y0 - y1) / np.sqrt(2))"
   ]
  },
  {
   "cell_type": "code",
   "execution_count": 144,
   "metadata": {
    "collapsed": false
   },
   "outputs": [
    {
     "data": {
      "text/plain": [
       "array([ 0.5-0.5j,  0.5-0.5j])"
      ]
     },
     "execution_count": 144,
     "metadata": {},
     "output_type": "execute_result"
    }
   ],
   "source": [
    "(-1j * y0 + y1) / np.sqrt(2)"
   ]
  },
  {
   "cell_type": "code",
   "execution_count": 149,
   "metadata": {
    "collapsed": false
   },
   "outputs": [
    {
     "data": {
      "text/plain": [
       "array([ 0.5-0.5j, -0.5+0.5j])"
      ]
     },
     "execution_count": 149,
     "metadata": {},
     "output_type": "execute_result"
    }
   ],
   "source": [
    "np.exp(-1j * np.pi/4) * x0"
   ]
  },
  {
   "cell_type": "code",
   "execution_count": 148,
   "metadata": {
    "collapsed": false
   },
   "outputs": [
    {
     "data": {
      "text/plain": [
       "array([ 0.5-0.5j, -0.5+0.5j])"
      ]
     },
     "execution_count": 148,
     "metadata": {},
     "output_type": "execute_result"
    }
   ],
   "source": [
    "(y0 - 1j * y1) / np.sqrt(2)"
   ]
  },
  {
   "cell_type": "markdown",
   "metadata": {},
   "source": [
    "## Rotations of x basis states over +x"
   ]
  },
  {
   "cell_type": "code",
   "execution_count": 160,
   "metadata": {
    "collapsed": false,
    "scrolled": true
   },
   "outputs": [
    {
     "name": "stdout",
     "output_type": "stream",
     "text": [
      "x0 rotated by 0.50 pi over axis [1, 0, 0]\n",
      "output state       : [ 0.5+0.5j -0.5-0.5j]\n",
      "comparison to expected state: x0\n",
      "raw overlap     : [ 0.70710678+0.70710678j  0.70710678+0.70710678j]\n",
      "avg raw overlap : (0.707106781187+0.707106781187j)\n",
      "absval avg raw o: 1.000000\n",
      "angle avg raw o : 0.25 pi\n"
     ]
    }
   ],
   "source": [
    "check_rotation([1, 0, 0], np.pi/2, 'x0', 'x0')"
   ]
  },
  {
   "cell_type": "code",
   "execution_count": 161,
   "metadata": {
    "collapsed": false
   },
   "outputs": [
    {
     "name": "stdout",
     "output_type": "stream",
     "text": [
      "x1 rotated by 0.50 pi over axis [1, 0, 0]\n",
      "output state       : [ 0.5-0.5j  0.5-0.5j]\n",
      "comparison to expected state: x1\n",
      "raw overlap     : [ 0.70710678-0.70710678j  0.70710678-0.70710678j]\n",
      "avg raw overlap : (0.707106781187-0.707106781187j)\n",
      "absval avg raw o: 1.000000\n",
      "angle avg raw o : -0.25 pi\n"
     ]
    }
   ],
   "source": [
    "check_rotation([1, 0, 0], np.pi/2, 'x1', 'x1')"
   ]
  },
  {
   "cell_type": "markdown",
   "metadata": {},
   "source": [
    "## Rotations of x basis states over -x"
   ]
  },
  {
   "cell_type": "code",
   "execution_count": 167,
   "metadata": {
    "collapsed": false
   },
   "outputs": [
    {
     "name": "stdout",
     "output_type": "stream",
     "text": [
      "x0 rotated by 0.50 pi over axis [-1, 0, 0]\n",
      "output state       : [ 0.5-0.5j -0.5+0.5j]\n",
      "comparison to expected state: x0\n",
      "raw overlap     : [ 0.70710678-0.70710678j  0.70710678-0.70710678j]\n",
      "avg raw overlap : (0.707106781187-0.707106781187j)\n",
      "absval avg raw o: 1.000000\n",
      "angle avg raw o : -0.25 pi\n"
     ]
    }
   ],
   "source": [
    "check_rotation([-1, 0, 0], np.pi/2, 'x0', 'x0')"
   ]
  },
  {
   "cell_type": "code",
   "execution_count": 166,
   "metadata": {
    "collapsed": false
   },
   "outputs": [
    {
     "name": "stdout",
     "output_type": "stream",
     "text": [
      "x1 rotated by 0.50 pi over axis [-1, 0, 0]\n",
      "output state       : [ 0.5+0.5j  0.5+0.5j]\n",
      "comparison to expected state: x1\n",
      "raw overlap     : [ 0.70710678+0.70710678j  0.70710678+0.70710678j]\n",
      "avg raw overlap : (0.707106781187+0.707106781187j)\n",
      "absval avg raw o: 1.000000\n",
      "angle avg raw o : 0.25 pi\n"
     ]
    }
   ],
   "source": [
    "check_rotation([-1, 0, 0], np.pi/2, 'x1', 'x1')"
   ]
  },
  {
   "cell_type": "code",
   "execution_count": 171,
   "metadata": {
    "collapsed": false
   },
   "outputs": [
    {
     "data": {
      "text/plain": [
       "(6.123233995736766e-17-1j)"
      ]
     },
     "execution_count": 171,
     "metadata": {},
     "output_type": "execute_result"
    }
   ],
   "source": [
    "np.exp(-1j * np.pi/2)"
   ]
  },
  {
   "cell_type": "code",
   "execution_count": 173,
   "metadata": {
    "collapsed": false
   },
   "outputs": [
    {
     "data": {
      "text/plain": [
       "(1.1102230246251565e-16-1.1102230246251565e-16j)"
      ]
     },
     "execution_count": 173,
     "metadata": {},
     "output_type": "execute_result"
    }
   ],
   "source": [
    "np.exp(-1j * 0.75 * np.pi) + np.exp(1j * 0.25 * np.pi)"
   ]
  },
  {
   "cell_type": "code",
   "execution_count": null,
   "metadata": {
    "collapsed": true
   },
   "outputs": [],
   "source": []
  }
 ],
 "metadata": {
  "kernelspec": {
   "display_name": "Python [default]",
   "language": "python",
   "name": "python3"
  },
  "language_info": {
   "codemirror_mode": {
    "name": "ipython",
    "version": 3
   },
   "file_extension": ".py",
   "mimetype": "text/x-python",
   "name": "python",
   "nbconvert_exporter": "python",
   "pygments_lexer": "ipython3",
   "version": "3.5.2"
  }
 },
 "nbformat": 4,
 "nbformat_minor": 2
}
