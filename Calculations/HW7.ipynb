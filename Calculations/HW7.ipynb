{
 "cells": [
  {
   "cell_type": "code",
   "execution_count": 1,
   "metadata": {
    "collapsed": true
   },
   "outputs": [],
   "source": [
    "import numpy as np"
   ]
  },
  {
   "cell_type": "code",
   "execution_count": 2,
   "metadata": {
    "collapsed": true
   },
   "outputs": [],
   "source": [
    "sx = np.array([[0, 1],[ 1, 0]])\n",
    "sy = np.array([[0, -1j],[1j, 0]])\n",
    "sz = np.array([[1, 0],[0, -1]])"
   ]
  },
  {
   "cell_type": "code",
   "execution_count": 3,
   "metadata": {
    "collapsed": true
   },
   "outputs": [],
   "source": [
    "a0 = sz\n",
    "a1 = sx\n",
    "b0 = 1/np.sqrt(2) * (sx + sz)\n",
    "b1 = 1/np.sqrt(2) * (sx - sz)"
   ]
  },
  {
   "cell_type": "code",
   "execution_count": 4,
   "metadata": {
    "collapsed": true
   },
   "outputs": [],
   "source": [
    "S = np.kron(a0, b0) - np.kron(a1, b0) - np.kron(a0, b1) - np.kron(a1, b1)"
   ]
  },
  {
   "cell_type": "code",
   "execution_count": 5,
   "metadata": {
    "collapsed": false
   },
   "outputs": [
    {
     "name": "stdout",
     "output_type": "stream",
     "text": [
      "[[ 1.41421356  0.          0.         -1.41421356]\n",
      " [ 0.         -1.41421356 -1.41421356  0.        ]\n",
      " [ 0.         -1.41421356 -1.41421356  0.        ]\n",
      " [-1.41421356  0.          0.          1.41421356]]\n"
     ]
    }
   ],
   "source": [
    "print(S)"
   ]
  },
  {
   "cell_type": "code",
   "execution_count": 6,
   "metadata": {
    "collapsed": true
   },
   "outputs": [],
   "source": [
    "S_rew = np.sqrt(2) * (np.kron(sz,sz) - np.kron(sx, sx))"
   ]
  },
  {
   "cell_type": "code",
   "execution_count": 7,
   "metadata": {
    "collapsed": false
   },
   "outputs": [
    {
     "name": "stdout",
     "output_type": "stream",
     "text": [
      "[[ 1.41421356  0.          0.         -1.41421356]\n",
      " [ 0.         -1.41421356 -1.41421356  0.        ]\n",
      " [ 0.         -1.41421356 -1.41421356  0.        ]\n",
      " [-1.41421356  0.          0.          1.41421356]]\n"
     ]
    }
   ],
   "source": [
    "print(S_rew)"
   ]
  },
  {
   "cell_type": "code",
   "execution_count": null,
   "metadata": {
    "collapsed": false
   },
   "outputs": [],
   "source": []
  },
  {
   "cell_type": "code",
   "execution_count": 11,
   "metadata": {
    "collapsed": false
   },
   "outputs": [],
   "source": [
    "dn = np.array([1, 0])\n",
    "up = np.array([0, 1])\n",
    "\n",
    "upup = np.kron(up, up)\n",
    "updn = np.kron(up, dn)\n",
    "dnup = np.kron(dn, up)\n",
    "dndn = np.kron(dn, dn)"
   ]
  },
  {
   "cell_type": "code",
   "execution_count": 13,
   "metadata": {
    "collapsed": false
   },
   "outputs": [],
   "source": [
    "CNOT = np.array([\n",
    "        [1, 0, 0, 0],\n",
    "        [0, 1, 0, 0],\n",
    "        [0, 0, 0, 1],\n",
    "        [0, 0, 1, 0]\n",
    "    ])"
   ]
  },
  {
   "cell_type": "code",
   "execution_count": 20,
   "metadata": {
    "collapsed": false
   },
   "outputs": [],
   "source": [
    "phi_p = 1/np.sqrt(2) * (upup + dndn)\n",
    "phi_m = 1/np.sqrt(2) * (upup - dndn)\n",
    "psi_p = 1/np.sqrt(2) * (updn + dnup)\n",
    "psi_m = 1/np.sqrt(2) * (updn - dnup)"
   ]
  },
  {
   "cell_type": "code",
   "execution_count": 23,
   "metadata": {
    "collapsed": false
   },
   "outputs": [],
   "source": [
    "F = 0.25\n",
    "\n",
    "W_F = F * np.kron(psi_m, psi_m.T) + (1-F)/3 * (np.kron(psi_p, psi_p.T) + np.kron(phi_p, phi_p.T) + np.kron(phi_m, phi_m.T))"
   ]
  },
  {
   "cell_type": "code",
   "execution_count": 24,
   "metadata": {
    "collapsed": false
   },
   "outputs": [
    {
     "data": {
      "text/plain": [
       "array([ 0.25,  0.  ,  0.  ,  0.  ,  0.  ,  0.25,  0.  ,  0.  ,  0.  ,\n",
       "        0.  ,  0.25,  0.  ,  0.  ,  0.  ,  0.  ,  0.25])"
      ]
     },
     "execution_count": 24,
     "metadata": {},
     "output_type": "execute_result"
    }
   ],
   "source": [
    "W_F"
   ]
  },
  {
   "cell_type": "code",
   "execution_count": 41,
   "metadata": {
    "collapsed": false
   },
   "outputs": [
    {
     "data": {
      "text/plain": [
       "array([ 1.])"
      ]
     },
     "execution_count": 41,
     "metadata": {},
     "output_type": "execute_result"
    }
   ],
   "source": [
    "np.dot(psi_m, psi_m.reshape(4,1))"
   ]
  },
  {
   "cell_type": "code",
   "execution_count": 38,
   "metadata": {
    "collapsed": false
   },
   "outputs": [
    {
     "data": {
      "text/plain": [
       "array([[ 0.        ],\n",
       "       [-0.70710678],\n",
       "       [ 0.70710678],\n",
       "       [ 0.        ]])"
      ]
     },
     "execution_count": 38,
     "metadata": {},
     "output_type": "execute_result"
    }
   ],
   "source": [
    "psi_m.reshape(4,1)"
   ]
  },
  {
   "cell_type": "code",
   "execution_count": null,
   "metadata": {
    "collapsed": true
   },
   "outputs": [],
   "source": []
  }
 ],
 "metadata": {
  "anaconda-cloud": {},
  "kernelspec": {
   "display_name": "Python [default]",
   "language": "python",
   "name": "python3"
  },
  "language_info": {
   "codemirror_mode": {
    "name": "ipython",
    "version": 3
   },
   "file_extension": ".py",
   "mimetype": "text/x-python",
   "name": "python",
   "nbconvert_exporter": "python",
   "pygments_lexer": "ipython3",
   "version": "3.5.2"
  }
 },
 "nbformat": 4,
 "nbformat_minor": 1
}
